{
 "cells": [
  {
   "cell_type": "code",
   "execution_count": 1,
   "metadata": {},
   "outputs": [],
   "source": [
    "# DataClass"
   ]
  },
  {
   "cell_type": "code",
   "execution_count": 2,
   "metadata": {},
   "outputs": [],
   "source": [
    "# Não possui tudo o que se espera de uma dataclass\n",
    "class Coordinate:\n",
    "    def __init__(self, lat, lon):\n",
    "        self.lat = lat\n",
    "        self.lon = lon"
   ]
  },
  {
   "cell_type": "code",
   "execution_count": 3,
   "metadata": {},
   "outputs": [
    {
     "data": {
      "text/plain": [
       "<__main__.Coordinate at 0x7f21b45d9b40>"
      ]
     },
     "execution_count": 3,
     "metadata": {},
     "output_type": "execute_result"
    }
   ],
   "source": [
    "kyiv = Coordinate(50.4501, 30.5234)\n",
    "kyiv2 = Coordinate(50.4501, 30.5234)\n",
    "kyiv"
   ]
  },
  {
   "cell_type": "code",
   "execution_count": 4,
   "metadata": {},
   "outputs": [
    {
     "data": {
      "text/plain": [
       "(False, True)"
      ]
     },
     "execution_count": 4,
     "metadata": {},
     "output_type": "execute_result"
    }
   ],
   "source": [
    "kyiv==kyiv2, (kyiv.lat, kyiv.lon) == (kyiv2.lat, kyiv2.lon)"
   ]
  },
  {
   "cell_type": "code",
   "execution_count": 5,
   "metadata": {},
   "outputs": [
    {
     "data": {
      "text/plain": [
       "True"
      ]
     },
     "execution_count": 5,
     "metadata": {},
     "output_type": "execute_result"
    }
   ],
   "source": [
    "from collections import namedtuple\n",
    "#can be use in the place of tuples without loss\n",
    "Coordinate = namedtuple('Coodinate', 'lat lon')\n",
    "issubclass(Coordinate, tuple)"
   ]
  },
  {
   "cell_type": "code",
   "execution_count": 6,
   "metadata": {},
   "outputs": [
    {
     "data": {
      "text/plain": [
       "Coodinate(lat=50.4501, lon=30.5234)"
      ]
     },
     "execution_count": 6,
     "metadata": {},
     "output_type": "execute_result"
    }
   ],
   "source": [
    "kyiv = Coordinate(50.4501, 30.5234)\n",
    "kyiv"
   ]
  },
  {
   "cell_type": "code",
   "execution_count": 7,
   "metadata": {},
   "outputs": [
    {
     "data": {
      "text/plain": [
       "True"
      ]
     },
     "execution_count": 7,
     "metadata": {},
     "output_type": "execute_result"
    }
   ],
   "source": [
    "kyiv == Coordinate(50.4501, 30.5234)"
   ]
  },
  {
   "cell_type": "code",
   "execution_count": 8,
   "metadata": {},
   "outputs": [],
   "source": [
    "from typing import NamedTuple\n",
    "Coordinate = NamedTuple('Coordinate', [('lat', float),('lon', float)])\n",
    "Coordinate = NamedTuple('Coordinate', lat=float, lon=float)"
   ]
  },
  {
   "cell_type": "code",
   "execution_count": 9,
   "metadata": {},
   "outputs": [
    {
     "data": {
      "text/plain": [
       "(Coordinate(lat=50.4501, lon=30.5234), True)"
      ]
     },
     "execution_count": 9,
     "metadata": {},
     "output_type": "execute_result"
    }
   ],
   "source": [
    "kyiv = Coordinate(50.4501, 30.5234)\n",
    "kyiv, kyiv == Coordinate(50.4501, 30.5234)"
   ]
  },
  {
   "cell_type": "code",
   "execution_count": 10,
   "metadata": {},
   "outputs": [
    {
     "name": "stdout",
     "output_type": "stream",
     "text": [
      "50.5°N, 30.5°E\n"
     ]
    },
    {
     "data": {
      "text/plain": [
       "(Coordinate(lat=50.4501, lon=30.5234, referece='default'), True)"
      ]
     },
     "execution_count": 10,
     "metadata": {},
     "output_type": "execute_result"
    }
   ],
   "source": [
    "# It's not a superclass, but the use of an advanced function of metaclass\n",
    "class Coordinate(NamedTuple):\n",
    "    lat: float\n",
    "    lon: float\n",
    "    referece: str = 'default' # Add a default value\n",
    "    \n",
    "    def __str__(self) -> str:\n",
    "        ns = 'N' if self.lat >= 0 else 'S'\n",
    "        we = 'E' if self.lon >= 0 else 'W'\n",
    "        return f'{abs(self.lat):.1f}°{ns}, {abs(self.lon):.1f}°{we}'\n",
    "\n",
    "kyiv = Coordinate(50.4501, 30.5234)\n",
    "print(kyiv)\n",
    "kyiv, kyiv == Coordinate(50.4501, 30.5234)"
   ]
  },
  {
   "cell_type": "code",
   "execution_count": 11,
   "metadata": {},
   "outputs": [
    {
     "name": "stdout",
     "output_type": "stream",
     "text": [
      "50.5°N, 30.5°E\n"
     ]
    },
    {
     "data": {
      "text/plain": [
       "(Coordinate(lat=50.4501, lon=30.5234, referece='default'), True)"
      ]
     },
     "execution_count": 11,
     "metadata": {},
     "output_type": "execute_result"
    }
   ],
   "source": [
    "from dataclasses import dataclass, asdict\n",
    "\n",
    "# Class decorator, strange concept, really don't understand this yet\n",
    "# However, don't interfere with inheritance\n",
    "@dataclass(frozen=True) # frozen=True makes the class immutable\n",
    "class Coordinate():\n",
    "    lat: float\n",
    "    lon: float\n",
    "    referece: str = 'default'\n",
    "    \n",
    "    def __str__(self) -> str:\n",
    "        ns = 'N' if self.lat >= 0 else 'S'\n",
    "        we = 'E' if self.lon >= 0 else 'W'\n",
    "        return f'{abs(self.lat):.1f}°{ns}, {abs(self.lon):.1f}°{we}'\n",
    "    \n",
    "kyiv = Coordinate(50.4501, 30.5234)\n",
    "print(kyiv)\n",
    "kyiv, kyiv == Coordinate(50.4501, 30.5234)"
   ]
  },
  {
   "cell_type": "code",
   "execution_count": 12,
   "metadata": {},
   "outputs": [
    {
     "data": {
      "text/plain": [
       "{'lat': 50.4501, 'lon': 30.5234, 'referece': 'default'}"
      ]
     },
     "execution_count": 12,
     "metadata": {},
     "output_type": "execute_result"
    }
   ],
   "source": [
    "asdict(kyiv)"
   ]
  },
  {
   "cell_type": "code",
   "execution_count": 13,
   "metadata": {},
   "outputs": [
    {
     "name": "stdout",
     "output_type": "stream",
     "text": [
      "2\n"
     ]
    }
   ],
   "source": [
    "# Method inject\n",
    "Card = namedtuple('Card', ['rank', 'suit'])\n",
    "Card.suit_values = dict(spades=3, hearts=2, diamonds=1, clubs=0) \n",
    "def some_method(card: Card):\n",
    "    print(card.rank)\n",
    "Card.print_rank = some_method\n",
    "lowest_card = Card('2', 'clubs')\n",
    "lowest_card.print_rank()"
   ]
  },
  {
   "cell_type": "code",
   "execution_count": 14,
   "metadata": {},
   "outputs": [
    {
     "data": {
      "text/plain": [
       "{'lat': float, 'lon': float, 'referece': str}"
      ]
     },
     "execution_count": 14,
     "metadata": {},
     "output_type": "execute_result"
    }
   ],
   "source": [
    "kyiv.__annotations__"
   ]
  },
  {
   "cell_type": "code",
   "execution_count": 15,
   "metadata": {},
   "outputs": [],
   "source": [
    "# For the attributes become class attributes with the use\n",
    "# of @dataclass and NamedTuple, is necessary that they are\n",
    "# annotated with a type, if this is not true, they will become \n",
    "# a class attribute. There's some black magic bullshit in this\n",
    "# behaviour "
   ]
  },
  {
   "cell_type": "code",
   "execution_count": 16,
   "metadata": {},
   "outputs": [],
   "source": [
    "# Post-init processing"
   ]
  },
  {
   "cell_type": "code",
   "execution_count": 17,
   "metadata": {},
   "outputs": [
    {
     "data": {
      "text/plain": [
       "RPGmage(name='Merlim', level=4, items=['varinha', 'cajado'], life_points=20, magics=['fireball', 'iceshot'])"
      ]
     },
     "execution_count": 17,
     "metadata": {},
     "output_type": "execute_result"
    }
   ],
   "source": [
    "from dataclasses import field\n",
    "\n",
    "\n",
    "@dataclass\n",
    "class RPGchar:\n",
    "    name: str\n",
    "    level: int\n",
    "    items: list[str] = field(default_factory=list)\n",
    "\n",
    "\n",
    "\n",
    "@dataclass\n",
    "class RPGmage(RPGchar):\n",
    "    life_points: int = None\n",
    "    magics: list = field(default_factory=list)\n",
    "    hit_dice = 4\n",
    "\n",
    "    def __post_init__(self):\n",
    "        cls = self.__class__\n",
    "        self.life_points = cls.hit_dice * (self.level+1)\n",
    "\n",
    "RPGmage('Merlim', 4, ['varinha', 'cajado'], None, ['fireball', 'iceshot'])"
   ]
  },
  {
   "cell_type": "code",
   "execution_count": 18,
   "metadata": {},
   "outputs": [],
   "source": [
    "from enum import Enum, auto"
   ]
  },
  {
   "cell_type": "code",
   "execution_count": 19,
   "metadata": {},
   "outputs": [],
   "source": [
    "A = auto()"
   ]
  },
  {
   "cell_type": "code",
   "execution_count": 20,
   "metadata": {},
   "outputs": [],
   "source": [
    "class ResourceType(Enum):\n",
    "    BOOK = auto()\n",
    "    EBOOK = auto()\n",
    "    VIDEO = auto()\n"
   ]
  },
  {
   "cell_type": "code",
   "execution_count": 21,
   "metadata": {},
   "outputs": [
    {
     "data": {
      "text/plain": [
       "<ResourceType.VIDEO: 3>"
      ]
     },
     "execution_count": 21,
     "metadata": {},
     "output_type": "execute_result"
    }
   ],
   "source": [
    "ResourceType.VIDEO"
   ]
  },
  {
   "cell_type": "code",
   "execution_count": 22,
   "metadata": {},
   "outputs": [
    {
     "name": "stdout",
     "output_type": "stream",
     "text": [
      "0.1\n",
      "sswqw\n"
     ]
    },
    {
     "data": {
      "text/plain": [
       "'sswqw'"
      ]
     },
     "execution_count": 22,
     "metadata": {},
     "output_type": "execute_result"
    }
   ],
   "source": [
    "x=0.1\n",
    "match x:\n",
    "    case float():\n",
    "        print(x)\n",
    "    case _:\n",
    "        print('Não é um float')\n",
    "\n",
    "def danger():\n",
    "    x = 'sswqw'\n",
    "    match x:\n",
    "        case float: # Danger, overwrite float\n",
    "            print(x)\n",
    "    return float\n",
    "\n",
    "danger()"
   ]
  },
  {
   "cell_type": "code",
   "execution_count": 29,
   "metadata": {},
   "outputs": [],
   "source": [
    "import typing\n",
    "\n",
    "class City(typing.NamedTuple):\n",
    "    continent: str\n",
    "    name: str\n",
    "    country: str\n",
    "\n",
    "class notCity(typing.NamedTuple):\n",
    "    continent: str\n",
    "    name: str\n",
    "    country: str\n",
    "\n",
    "cities = [\n",
    " City('Asia', 'Tokyo', 'JP'),\n",
    " City('Asia', 'Delhi', 'IN'),\n",
    " City('North America', 'Mexico City', 'MX'),\n",
    " City('North America', 'New York', 'US'),\n",
    " City('South America', 'São Paulo', 'BR'),\n",
    " notCity('Asia', 'Gotham', 'BR'),\n",
    "]\n"
   ]
  },
  {
   "cell_type": "code",
   "execution_count": 31,
   "metadata": {},
   "outputs": [
    {
     "data": {
      "text/plain": [
       "[(City(continent='Asia', name='Tokyo', country='JP'), 'JP'),\n",
       " (City(continent='Asia', name='Delhi', country='IN'), 'IN')]"
      ]
     },
     "execution_count": 31,
     "metadata": {},
     "output_type": "execute_result"
    }
   ],
   "source": [
    "# keyword match\n",
    "def match_asian_cities(cities):\n",
    "    results = []\n",
    "    for city in cities:\n",
    "        match city:\n",
    "            case City(continent='Asia', country=dummy):\n",
    "                results.append((city, dummy))\n",
    "    return results\n",
    "\n",
    "match_asian_cities(cities)"
   ]
  },
  {
   "cell_type": "code",
   "execution_count": 36,
   "metadata": {},
   "outputs": [
    {
     "data": {
      "text/plain": [
       "[(City(continent='Asia', name='Tokyo', country='JP'), 'JP'),\n",
       " (City(continent='Asia', name='Delhi', country='IN'), 'IN'),\n",
       " (City(continent='South America', name='São Paulo', country='BR'), 'BR')]"
      ]
     },
     "execution_count": 36,
     "metadata": {},
     "output_type": "execute_result"
    }
   ],
   "source": [
    "# positional match\n",
    "def match_asian_cities(cities):\n",
    "    results = []\n",
    "    for city in cities:\n",
    "        match city:\n",
    "            case City('Asia'|'South America', _, dummy):\n",
    "                results.append((city, dummy))\n",
    "    return results\n",
    "\n",
    "match_asian_cities(cities)"
   ]
  }
 ],
 "metadata": {
  "kernelspec": {
   "display_name": "Python 3.10.4 64-bit ('3.10.4')",
   "language": "python",
   "name": "python3"
  },
  "language_info": {
   "codemirror_mode": {
    "name": "ipython",
    "version": 3
   },
   "file_extension": ".py",
   "mimetype": "text/x-python",
   "name": "python",
   "nbconvert_exporter": "python",
   "pygments_lexer": "ipython3",
   "version": "3.10.4"
  },
  "orig_nbformat": 4,
  "vscode": {
   "interpreter": {
    "hash": "8ebb7c335093bb2a6e5a771fe2f24267b9482242c441074cc9d820c00b8871c6"
   }
  }
 },
 "nbformat": 4,
 "nbformat_minor": 2
}
