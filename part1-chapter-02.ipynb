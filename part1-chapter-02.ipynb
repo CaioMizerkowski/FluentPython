{
 "cells": [
  {
   "cell_type": "code",
   "execution_count": 19,
   "metadata": {},
   "outputs": [],
   "source": [
    "from array import array\n",
    "from collections import abc\n"
   ]
  },
  {
   "cell_type": "code",
   "execution_count": 29,
   "metadata": {},
   "outputs": [
    {
     "data": {
      "text/plain": [
       "(array('i', [1, 2, 3]), True)"
      ]
     },
     "execution_count": 29,
     "metadata": {},
     "output_type": "execute_result"
    }
   ],
   "source": [
    "# Flat sequence - store content in its own memory space\n",
    "array(\"i\", [1, 2, 3]), issubclass(array, abc.MutableSequence)\n"
   ]
  },
  {
   "cell_type": "code",
   "execution_count": 30,
   "metadata": {},
   "outputs": [
    {
     "data": {
      "text/plain": [
       "((1, 2, 3), False)"
      ]
     },
     "execution_count": 30,
     "metadata": {},
     "output_type": "execute_result"
    }
   ],
   "source": [
    "# Container sequence - holds references to the objects\n",
    "tuple((1, 2, 3)), issubclass(tuple, abc.MutableSequence)\n"
   ]
  },
  {
   "cell_type": "code",
   "execution_count": 31,
   "metadata": {},
   "outputs": [
    {
     "data": {
      "text/plain": [
       "('asdasdasd', False)"
      ]
     },
     "execution_count": 31,
     "metadata": {},
     "output_type": "execute_result"
    }
   ],
   "source": [
    "# Immutable sequence - cannot be changed\n",
    "str(\"asdasdasd\"), issubclass(str, abc.MutableSequence)\n"
   ]
  },
  {
   "cell_type": "code",
   "execution_count": 28,
   "metadata": {},
   "outputs": [
    {
     "data": {
      "text/plain": [
       "([1, 2, 3], True)"
      ]
     },
     "execution_count": 28,
     "metadata": {},
     "output_type": "execute_result"
    }
   ],
   "source": [
    "# Mutable sequence - can be changed\n",
    "list([1, 2, 3]), issubclass(list, abc.MutableSequence)\n"
   ]
  },
  {
   "cell_type": "code",
   "execution_count": 40,
   "metadata": {},
   "outputs": [
    {
     "name": "stdout",
     "output_type": "stream",
     "text": [
      "ABC\n",
      "67\n"
     ]
    }
   ],
   "source": [
    "# Scope of the variables in the list comprehension\n",
    "x = \"ABC\"\n",
    "codes = [ord(x) for x in x]\n",
    "print(x)\n",
    "\n",
    "# Walrus operator use the enclosing scope\n",
    "codes = [last := ord(c) for c in x]\n",
    "print(last)\n"
   ]
  },
  {
   "cell_type": "code",
   "execution_count": 2,
   "metadata": {},
   "outputs": [
    {
     "name": "stdout",
     "output_type": "stream",
     "text": [
      "listcomp        : 0.614 0.598 0.600 0.604 0.604\n",
      "listcomp + func : 0.984 0.976 0.975 0.978 1.005\n",
      "filter + lambda : 0.878 0.856 0.855 0.854 0.856\n",
      "filter + func   : 0.800 0.788 0.784 0.789 0.794\n"
     ]
    }
   ],
   "source": [
    "import timeit\n",
    "\n",
    "TIMES = 1000000\n",
    "\n",
    "SETUP = \"\"\"\n",
    "symbols = '$¢£¥€¤'\n",
    "def non_ascii(c):\n",
    "    return c > 127\n",
    "\"\"\"\n",
    "\n",
    "\n",
    "def clock(label, cmd):\n",
    "    res = timeit.repeat(cmd, setup=SETUP, number=TIMES)\n",
    "    print(label, *(f\"{x:.3f}\" for x in res))\n",
    "\n",
    "\n",
    "clock(\"listcomp        :\", \"[ord(s) for s in symbols if ord(s) > 127]\")\n",
    "clock(\"listcomp + func :\", \"[ord(s) for s in symbols if non_ascii(ord(s))]\")\n",
    "clock(\"filter + lambda :\", \"list(filter(lambda c: c > 127, map(ord, symbols)))\")\n",
    "clock(\"filter + func   :\", \"list(filter(non_ascii, map(ord, symbols)))\")\n"
   ]
  },
  {
   "cell_type": "code",
   "execution_count": 8,
   "metadata": {},
   "outputs": [
    {
     "data": {
      "text/plain": [
       "('h', ['e', 'l', 'l', 'o'])"
      ]
     },
     "execution_count": 8,
     "metadata": {},
     "output_type": "execute_result"
    }
   ],
   "source": [
    "seq = \"hello\"\n",
    "first, *rest = seq\n",
    "first, rest\n"
   ]
  },
  {
   "cell_type": "code",
   "execution_count": 11,
   "metadata": {},
   "outputs": [
    {
     "data": {
      "text/plain": [
       "{0, 1, 2, 3, 4, 5, 6, 7}"
      ]
     },
     "execution_count": 11,
     "metadata": {},
     "output_type": "execute_result"
    }
   ],
   "source": [
    "{*range(4), 4, *(5, 6, 7)}\n"
   ]
  },
  {
   "cell_type": "code",
   "execution_count": 12,
   "metadata": {},
   "outputs": [],
   "source": [
    "def handle_command(message):\n",
    "    match message: # message is the subject\n",
    "        case [\"BEEPER\", frequency, times]: # pattern\n",
    "            print(f\"BEEPER {frequency} {times}\")\n",
    "        case [\"NECK\", angle]:\n",
    "            print(f\"rotare neck {angle}\")\n",
    "        case _: # Default\n",
    "            raise ValueError(f\"Unknown command {message}\")\n"
   ]
  },
  {
   "cell_type": "code",
   "execution_count": 15,
   "metadata": {},
   "outputs": [
    {
     "name": "stdout",
     "output_type": "stream",
     "text": [
      "                |  latitude | longitude\n",
      "Mexico City     |   19.4333 |  -99.1333\n",
      "New York-Newark |   40.8086 |  -74.0204\n",
      "São Paulo       |  -23.5478 |  -46.6358\n"
     ]
    }
   ],
   "source": [
    "# Destructuring\n",
    "metro_areas = [\n",
    "    (\"Tokyo\", \"JP\", 36.933, (35.689722, 139.691667)),\n",
    "    (\"Delhi NCR\", \"IN\", 21.935, (28.613889, 77.208889)),\n",
    "    (\"Mexico City\", \"MX\", 20.142, (19.433333, -99.133333)),\n",
    "    (\"New York-Newark\", \"US\", 20.104, (40.808611, -74.020386)),\n",
    "    (\"São Paulo\", \"BR\", 19.649, (-23.547778, -46.635833)),\n",
    "]\n",
    "\n",
    "print(f\"{'':15} | {'latitude':>9} | {'longitude':>9}\")\n",
    "for record in metro_areas:\n",
    "    match record:  # subject\n",
    "        # pattern and guard(if)\n",
    "        case [name, _, _, (lat, lon)] if lon <= 0:\n",
    "            print(f\"{name:15} | {lat:9.4f} | {lon:9.4f}\")\n"
   ]
  },
  {
   "cell_type": "code",
   "execution_count": 30,
   "metadata": {},
   "outputs": [
    {
     "name": "stdout",
     "output_type": "stream",
     "text": [
      "['inner', 'binner', 'trinner']\n",
      "123456789\n"
     ]
    }
   ],
   "source": [
    "teste = str(\"123456789\")\n",
    "teste = [\"3\", [\"inner\", \"binner\", \"trinner\"], teste]\n",
    "match tuple(teste):\n",
    "    case [\"1\", *rest, str(last)]:\n",
    "        print(rest)\n",
    "    case [\"2\", *_, str(last)]:\n",
    "        print(first)\n",
    "    case [\"3\", [*inner], *rest] if rest:\n",
    "        print(inner)\n",
    "    case _:\n",
    "        raise ValueError(f\"Unknown command {teste}\")\n",
    "print(last)\n"
   ]
  },
  {
   "cell_type": "code",
   "execution_count": 32,
   "metadata": {},
   "outputs": [
    {
     "data": {
      "text/plain": [
       "('bye', 'elcycib', 'eccb')"
      ]
     },
     "execution_count": 32,
     "metadata": {},
     "output_type": "execute_result"
    }
   ],
   "source": [
    "# Slicing\n",
    "s = 'bicycle'\n",
    "s[::3], s[::-1], s[::-2]"
   ]
  },
  {
   "cell_type": "code",
   "execution_count": 81,
   "metadata": {},
   "outputs": [
    {
     "data": {
      "text/plain": [
       "((slice(1, 3, -1), slice('a', 'b', 2)),\n",
       " slice(1, 2, 3),\n",
       " (slice(1, 3, -1), Ellipsis, 1))"
      ]
     },
     "execution_count": 81,
     "metadata": {},
     "output_type": "execute_result"
    }
   ],
   "source": [
    "class Foo:\n",
    "    def __getitem__(self, index):\n",
    "        return index\n",
    "foo = Foo()\n",
    "foo[1:3:-1,'a':'b':2], foo[slice(1,2,3)], foo[1:3:-1,...,1]"
   ]
  },
  {
   "cell_type": "code",
   "execution_count": 80,
   "metadata": {},
   "outputs": [
    {
     "name": "stdout",
     "output_type": "stream",
     "text": [
      " \n",
      "$17.50  Pimoroni PiBrella      \n",
      "$4.95   6mm Tactile Switch x20 \n",
      "$28.00  Panavise Jr. - PV-201  \n",
      "$34.95  PiTFT Mini Kit 320x240 \n"
     ]
    }
   ],
   "source": [
    "invoice = \"\"\"\n",
    "1909 Pimoroni PiBrella      $17.50 3 $52.50\n",
    "1489 6mm Tactile Switch x20 $4.95  2  $9.90\n",
    "1510 Panavise Jr. - PV-201  $28.00 1 $28.00\n",
    "1601 PiTFT Mini Kit 320x240 $34.95 1 $34.95\n",
    "\"\"\".splitlines()\n",
    "\n",
    "DESCRIPTION = slice(4, 28)\n",
    "UNIT_PRICE = slice(28, 34)\n",
    "for item in invoice:\n",
    "    print(item[UNIT_PRICE], item[DESCRIPTION])"
   ]
  },
  {
   "cell_type": "code",
   "execution_count": 85,
   "metadata": {},
   "outputs": [
    {
     "data": {
      "text/plain": [
       "Ellipsis"
      ]
     },
     "execution_count": 85,
     "metadata": {},
     "output_type": "execute_result"
    }
   ],
   "source": [
    "..."
   ]
  },
  {
   "cell_type": "code",
   "execution_count": 86,
   "metadata": {},
   "outputs": [
    {
     "data": {
      "text/plain": [
       "[0, 1, 20, 30, 5, 6, 7, 8, 9]"
      ]
     },
     "execution_count": 86,
     "metadata": {},
     "output_type": "execute_result"
    }
   ],
   "source": [
    "l = list(range(10))\n",
    "l[2:5] = [20, 30]\n",
    "l"
   ]
  },
  {
   "cell_type": "code",
   "execution_count": 87,
   "metadata": {},
   "outputs": [
    {
     "data": {
      "text/plain": [
       "[0, 1, 20, 30, 5, 8, 9]"
      ]
     },
     "execution_count": 87,
     "metadata": {},
     "output_type": "execute_result"
    }
   ],
   "source": [
    "del l[5:7]\n",
    "l"
   ]
  },
  {
   "cell_type": "code",
   "execution_count": 92,
   "metadata": {},
   "outputs": [
    {
     "data": {
      "text/plain": [
       "[0, 1, 20, 20, 5, 30, 9]"
      ]
     },
     "execution_count": 92,
     "metadata": {},
     "output_type": "execute_result"
    }
   ],
   "source": [
    "l[3::2] = [20, 30]\n",
    "l"
   ]
  },
  {
   "cell_type": "code",
   "execution_count": 97,
   "metadata": {},
   "outputs": [],
   "source": [
    "from copy import deepcopy as dc"
   ]
  },
  {
   "cell_type": "code",
   "execution_count": 104,
   "metadata": {},
   "outputs": [
    {
     "data": {
      "text/plain": [
       "[[0, '_', '_'], [0, '_', '_'], [0, '_', '_']]"
      ]
     },
     "execution_count": 104,
     "metadata": {},
     "output_type": "execute_result"
    }
   ],
   "source": [
    "# Cuidado com multiplicação de listas com itens mutavéis\n",
    "l = [['_']*3]*3\n",
    "l[0][0] = 0\n",
    "l"
   ]
  },
  {
   "cell_type": "code",
   "execution_count": 111,
   "metadata": {},
   "outputs": [
    {
     "data": {
      "text/plain": [
       "([[0, '_', '_'], ['_', '_', '_'], ['_', '_', '_']], 139626985580352)"
      ]
     },
     "execution_count": 111,
     "metadata": {},
     "output_type": "execute_result"
    }
   ],
   "source": [
    "# Cuidado com multiplicação de listas com itens mutavéis\n",
    "l = [['_']*3 for x in range(3)]\n",
    "l[0][0] = 0\n",
    "l, id(l)"
   ]
  },
  {
   "cell_type": "code",
   "execution_count": 112,
   "metadata": {},
   "outputs": [
    {
     "data": {
      "text/plain": [
       "([[1, '_', '_'],\n",
       "  ['_', '_', '_'],\n",
       "  ['_', '_', '_'],\n",
       "  [1, '_', '_'],\n",
       "  ['_', '_', '_'],\n",
       "  ['_', '_', '_']],\n",
       " 139626985580352)"
      ]
     },
     "execution_count": 112,
     "metadata": {},
     "output_type": "execute_result"
    }
   ],
   "source": [
    "l+=l\n",
    "l[0][0] = 1\n",
    "l, id(l)"
   ]
  },
  {
   "cell_type": "code",
   "execution_count": 1,
   "metadata": {},
   "outputs": [
    {
     "name": "stdout",
     "output_type": "stream",
     "text": [
      "139968590006464\n"
     ]
    },
    {
     "ename": "TypeError",
     "evalue": "'tuple' object does not support item assignment",
     "output_type": "error",
     "traceback": [
      "\u001b[0;31m---------------------------------------------------------------------------\u001b[0m",
      "\u001b[0;31mTypeError\u001b[0m                                 Traceback (most recent call last)",
      "\u001b[1;32m/home/caio/FluentPython/part1-chapter-02.ipynb Cell 24\u001b[0m in \u001b[0;36m<cell line: 3>\u001b[0;34m()\u001b[0m\n\u001b[1;32m      <a href='vscode-notebook-cell://wsl%2Bubuntu/home/caio/FluentPython/part1-chapter-02.ipynb#X32sdnNjb2RlLXJlbW90ZQ%3D%3D?line=0'>1</a>\u001b[0m t \u001b[39m=\u001b[39m (\u001b[39m1\u001b[39m,\u001b[39m2\u001b[39m,[\u001b[39m30\u001b[39m,\u001b[39m40\u001b[39m])\n\u001b[1;32m      <a href='vscode-notebook-cell://wsl%2Bubuntu/home/caio/FluentPython/part1-chapter-02.ipynb#X32sdnNjb2RlLXJlbW90ZQ%3D%3D?line=1'>2</a>\u001b[0m \u001b[39mprint\u001b[39m(\u001b[39mid\u001b[39m(t))\n\u001b[0;32m----> <a href='vscode-notebook-cell://wsl%2Bubuntu/home/caio/FluentPython/part1-chapter-02.ipynb#X32sdnNjb2RlLXJlbW90ZQ%3D%3D?line=2'>3</a>\u001b[0m t[\u001b[39m2\u001b[39m] \u001b[39m+\u001b[39m\u001b[39m=\u001b[39m [\u001b[39m50\u001b[39m,\u001b[39m60\u001b[39m]\n",
      "\u001b[0;31mTypeError\u001b[0m: 'tuple' object does not support item assignment"
     ]
    }
   ],
   "source": [
    "t = (1,2,[30,40])\n",
    "print(id(t))\n",
    "t[2] += [50,60]"
   ]
  },
  {
   "cell_type": "code",
   "execution_count": 118,
   "metadata": {},
   "outputs": [
    {
     "data": {
      "text/plain": [
       "((1, 2, [30, 40, 50, 60]), 139627003124480)"
      ]
     },
     "execution_count": 118,
     "metadata": {},
     "output_type": "execute_result"
    }
   ],
   "source": [
    "t, id(t)"
   ]
  },
  {
   "cell_type": "code",
   "execution_count": 119,
   "metadata": {},
   "outputs": [],
   "source": [
    "from array import array"
   ]
  },
  {
   "cell_type": "code",
   "execution_count": null,
   "metadata": {},
   "outputs": [],
   "source": [
    "floats = array('d', (0.0, 1.0, 2.0, 3.0))\n",
    "# floats.tofile(f)\n",
    "# floats.fromfile(f, 4)\n"
   ]
  }
 ],
 "metadata": {
  "kernelspec": {
   "display_name": "Python 3.10.4 64-bit ('3.10.4')",
   "language": "python",
   "name": "python3"
  },
  "language_info": {
   "codemirror_mode": {
    "name": "ipython",
    "version": 3
   },
   "file_extension": ".py",
   "mimetype": "text/x-python",
   "name": "python",
   "nbconvert_exporter": "python",
   "pygments_lexer": "ipython3",
   "version": "3.10.4"
  },
  "orig_nbformat": 4,
  "vscode": {
   "interpreter": {
    "hash": "8ebb7c335093bb2a6e5a771fe2f24267b9482242c441074cc9d820c00b8871c6"
   }
  }
 },
 "nbformat": 4,
 "nbformat_minor": 2
}
