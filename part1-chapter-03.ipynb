{
 "cells": [
  {
   "cell_type": "code",
   "execution_count": 1,
   "metadata": {},
   "outputs": [],
   "source": [
    "def get_creators(record: dict) -> list:\n",
    "    match record:\n",
    "        case {\"type\": \"book\", \"authors\": [*names]}:\n",
    "            return names\n",
    "        case {\"type\": \"book\", \"author\": name}:\n",
    "            return [name]\n",
    "        # Capturing extra arguments\n",
    "        case {\"type\": \"series\", \"author\": name, **extra}:\n",
    "            return [name, extra]\n",
    "        case {\"type\": \"book\"}:\n",
    "            raise ValueError(f\"Invalid 'book' record: {record}\")\n",
    "        case _:\n",
    "            raise ValueError(f\"Invalid record: {record!r}\")\n"
   ]
  },
  {
   "cell_type": "code",
   "execution_count": 6,
   "metadata": {},
   "outputs": [
    {
     "name": "stdout",
     "output_type": "stream",
     "text": [
      "{'type': 'book', 'authors': [0, 1, 2, 3, 4, 5, 6, 7, 8, 9]}\n",
      "{'type': 'book', 'authors': [0, 1, 2, 3, 4, 5, 6, 7, 8, 9]}\n",
      "[0, 1, 2, 3, 4, 5, 6, 7, 8, 9]\n"
     ]
    },
    {
     "ename": "ValueError",
     "evalue": "Invalid 'book' record: {'type': 'book'}",
     "output_type": "error",
     "traceback": [
      "\u001b[0;31m---------------------------------------------------------------------------\u001b[0m",
      "\u001b[0;31mValueError\u001b[0m                                Traceback (most recent call last)",
      "\u001b[1;32m/home/caio/FluentPython/part1-chapter-03.ipynb Cell 2\u001b[0m in \u001b[0;36m<cell line: 5>\u001b[0;34m()\u001b[0m\n\u001b[1;32m      <a href='vscode-notebook-cell://wsl%2Bubuntu/home/caio/FluentPython/part1-chapter-03.ipynb#W1sdnNjb2RlLXJlbW90ZQ%3D%3D?line=2'>3</a>\u001b[0m \u001b[39mprint\u001b[39m(\u001b[39mf\u001b[39m\u001b[39m\"\u001b[39m\u001b[39m{\u001b[39;00mrecord\u001b[39m!r}\u001b[39;00m\u001b[39m\\n\u001b[39;00m\u001b[39m{\u001b[39;00mrecord\u001b[39m}\u001b[39;00m\u001b[39m\"\u001b[39m)\n\u001b[1;32m      <a href='vscode-notebook-cell://wsl%2Bubuntu/home/caio/FluentPython/part1-chapter-03.ipynb#W1sdnNjb2RlLXJlbW90ZQ%3D%3D?line=3'>4</a>\u001b[0m \u001b[39mprint\u001b[39m(get_creators(record))\n\u001b[0;32m----> <a href='vscode-notebook-cell://wsl%2Bubuntu/home/caio/FluentPython/part1-chapter-03.ipynb#W1sdnNjb2RlLXJlbW90ZQ%3D%3D?line=4'>5</a>\u001b[0m get_creators({\u001b[39m\"\u001b[39;49m\u001b[39mtype\u001b[39;49m\u001b[39m\"\u001b[39;49m: \u001b[39m\"\u001b[39;49m\u001b[39mbook\u001b[39;49m\u001b[39m\"\u001b[39;49m})\n",
      "\u001b[1;32m/home/caio/FluentPython/part1-chapter-03.ipynb Cell 2\u001b[0m in \u001b[0;36mget_creators\u001b[0;34m(record)\u001b[0m\n\u001b[1;32m      <a href='vscode-notebook-cell://wsl%2Bubuntu/home/caio/FluentPython/part1-chapter-03.ipynb#W1sdnNjb2RlLXJlbW90ZQ%3D%3D?line=0'>1</a>\u001b[0m \u001b[39mdef\u001b[39;00m \u001b[39mget_creators\u001b[39m(record: \u001b[39mdict\u001b[39m) \u001b[39m-\u001b[39m\u001b[39m>\u001b[39m \u001b[39mlist\u001b[39m:\n\u001b[1;32m      <a href='vscode-notebook-cell://wsl%2Bubuntu/home/caio/FluentPython/part1-chapter-03.ipynb#W1sdnNjb2RlLXJlbW90ZQ%3D%3D?line=1'>2</a>\u001b[0m     \u001b[39mmatch\u001b[39;00m record:\n\u001b[1;32m      <a href='vscode-notebook-cell://wsl%2Bubuntu/home/caio/FluentPython/part1-chapter-03.ipynb#W1sdnNjb2RlLXJlbW90ZQ%3D%3D?line=2'>3</a>\u001b[0m         \u001b[39mcase\u001b[39;00m {\u001b[39m\"\u001b[39m\u001b[39mtype\u001b[39m\u001b[39m\"\u001b[39m: \u001b[39m\"\u001b[39m\u001b[39mbook\u001b[39m\u001b[39m\"\u001b[39m, \u001b[39m\"\u001b[39m\u001b[39mauthors\u001b[39m\u001b[39m\"\u001b[39m: [\u001b[39m*\u001b[39mnames]}:\n\u001b[1;32m      <a href='vscode-notebook-cell://wsl%2Bubuntu/home/caio/FluentPython/part1-chapter-03.ipynb#W1sdnNjb2RlLXJlbW90ZQ%3D%3D?line=3'>4</a>\u001b[0m             \u001b[39mreturn\u001b[39;00m names\n\u001b[1;32m      <a href='vscode-notebook-cell://wsl%2Bubuntu/home/caio/FluentPython/part1-chapter-03.ipynb#W1sdnNjb2RlLXJlbW90ZQ%3D%3D?line=4'>5</a>\u001b[0m         \u001b[39mcase\u001b[39;00m {\u001b[39m\"\u001b[39m\u001b[39mtype\u001b[39m\u001b[39m\"\u001b[39m: \u001b[39m\"\u001b[39m\u001b[39mbook\u001b[39m\u001b[39m\"\u001b[39m, \u001b[39m\"\u001b[39m\u001b[39mauthor\u001b[39m\u001b[39m\"\u001b[39m: name}:\n\u001b[1;32m      <a href='vscode-notebook-cell://wsl%2Bubuntu/home/caio/FluentPython/part1-chapter-03.ipynb#W1sdnNjb2RlLXJlbW90ZQ%3D%3D?line=5'>6</a>\u001b[0m             \u001b[39mreturn\u001b[39;00m [name]\n\u001b[1;32m      <a href='vscode-notebook-cell://wsl%2Bubuntu/home/caio/FluentPython/part1-chapter-03.ipynb#W1sdnNjb2RlLXJlbW90ZQ%3D%3D?line=6'>7</a>\u001b[0m         \u001b[39m# Capturing extra arguments\u001b[39;00m\n\u001b[1;32m      <a href='vscode-notebook-cell://wsl%2Bubuntu/home/caio/FluentPython/part1-chapter-03.ipynb#W1sdnNjb2RlLXJlbW90ZQ%3D%3D?line=7'>8</a>\u001b[0m         \u001b[39mcase\u001b[39;00m {\u001b[39m\"\u001b[39m\u001b[39mtype\u001b[39m\u001b[39m\"\u001b[39m: \u001b[39m\"\u001b[39m\u001b[39mseries\u001b[39m\u001b[39m\"\u001b[39m, \u001b[39m\"\u001b[39m\u001b[39mauthor\u001b[39m\u001b[39m\"\u001b[39m: name, \u001b[39m*\u001b[39m\u001b[39m*\u001b[39mextra}:\n\u001b[1;32m      <a href='vscode-notebook-cell://wsl%2Bubuntu/home/caio/FluentPython/part1-chapter-03.ipynb#W1sdnNjb2RlLXJlbW90ZQ%3D%3D?line=8'>9</a>\u001b[0m             \u001b[39mreturn\u001b[39;00m [name, extra]\n\u001b[1;32m     <a href='vscode-notebook-cell://wsl%2Bubuntu/home/caio/FluentPython/part1-chapter-03.ipynb#W1sdnNjb2RlLXJlbW90ZQ%3D%3D?line=9'>10</a>\u001b[0m         \u001b[39mcase\u001b[39;00m {\u001b[39m\"\u001b[39m\u001b[39mtype\u001b[39m\u001b[39m\"\u001b[39m: \u001b[39m\"\u001b[39m\u001b[39mbook\u001b[39m\u001b[39m\"\u001b[39m}:\n\u001b[0;32m---> <a href='vscode-notebook-cell://wsl%2Bubuntu/home/caio/FluentPython/part1-chapter-03.ipynb#W1sdnNjb2RlLXJlbW90ZQ%3D%3D?line=10'>11</a>\u001b[0m             \u001b[39mraise\u001b[39;00m \u001b[39mValueError\u001b[39;00m(\u001b[39mf\u001b[39m\u001b[39m\"\u001b[39m\u001b[39mInvalid \u001b[39m\u001b[39m'\u001b[39m\u001b[39mbook\u001b[39m\u001b[39m'\u001b[39m\u001b[39m record: \u001b[39m\u001b[39m{\u001b[39;00mrecord\u001b[39m}\u001b[39;00m\u001b[39m\"\u001b[39m)\n\u001b[1;32m     <a href='vscode-notebook-cell://wsl%2Bubuntu/home/caio/FluentPython/part1-chapter-03.ipynb#W1sdnNjb2RlLXJlbW90ZQ%3D%3D?line=11'>12</a>\u001b[0m         \u001b[39mcase\u001b[39;00m \u001b[39m_\u001b[39;00m:\n\u001b[1;32m     <a href='vscode-notebook-cell://wsl%2Bubuntu/home/caio/FluentPython/part1-chapter-03.ipynb#W1sdnNjb2RlLXJlbW90ZQ%3D%3D?line=12'>13</a>\u001b[0m             \u001b[39mraise\u001b[39;00m \u001b[39mValueError\u001b[39;00m(\u001b[39mf\u001b[39m\u001b[39m\"\u001b[39m\u001b[39mInvalid record: \u001b[39m\u001b[39m{\u001b[39;00mrecord\u001b[39m!r}\u001b[39;00m\u001b[39m\"\u001b[39m)\n",
      "\u001b[0;31mValueError\u001b[0m: Invalid 'book' record: {'type': 'book'}"
     ]
    }
   ],
   "source": [
    "# !r calls the repr in the f-string\n",
    "record = {\"type\": \"book\", \"authors\": [*range(10)]}\n",
    "print(f\"{record!r}\\n{record}\")\n",
    "print(get_creators(record))\n",
    "get_creators({\"type\": \"book\"})\n"
   ]
  },
  {
   "cell_type": "code",
   "execution_count": null,
   "metadata": {},
   "outputs": [
    {
     "data": {
      "text/plain": [
       "['Neil Gaiman']"
      ]
     },
     "execution_count": 40,
     "metadata": {},
     "output_type": "execute_result"
    }
   ],
   "source": [
    "# Mapping patterns succeed on partial matches!!!\n",
    "# Se the title field\n",
    "get_creators({\"type\": \"book\", \"author\": \"Neil Gaiman\", \"title\": \"Sandman\"})\n"
   ]
  },
  {
   "cell_type": "code",
   "execution_count": null,
   "metadata": {},
   "outputs": [
    {
     "data": {
      "text/plain": [
       "['Neil Gaiman', {'title': 'Sandman', 'episodies': 11, 'chapters': 1}]"
      ]
     },
     "execution_count": 42,
     "metadata": {},
     "output_type": "execute_result"
    }
   ],
   "source": [
    "# Mapping patterns succeed on partial matches!!!\n",
    "# Se the title field\n",
    "get_creators(\n",
    "    {\n",
    "        \"type\": \"series\",\n",
    "        \"author\": \"Neil Gaiman\",\n",
    "        \"title\": \"Sandman\",\n",
    "        \"episodies\": 11,\n",
    "        \"chapters\": 1,\n",
    "    }\n",
    ")\n"
   ]
  },
  {
   "cell_type": "code",
   "execution_count": null,
   "metadata": {},
   "outputs": [
    {
     "data": {
      "text/plain": [
       "{'x': 10, 'y': 20, 'z': '3', 'k': '2'}"
      ]
     },
     "execution_count": 9,
     "metadata": {},
     "output_type": "execute_result"
    }
   ],
   "source": [
    "def sponge(**bob):\n",
    "    return bob\n",
    "\n",
    "\n",
    "sponge(**{\"x\": 10, \"y\": 20}, z=\"3\", **{\"k\": \"2\"})\n"
   ]
  },
  {
   "cell_type": "code",
   "execution_count": null,
   "metadata": {},
   "outputs": [
    {
     "data": {
      "text/plain": [
       "{'a': 0, 'x': 2, 'y': 2, 'z': 4}"
      ]
     },
     "execution_count": 17,
     "metadata": {},
     "output_type": "execute_result"
    }
   ],
   "source": [
    "d1 = {\"a\": 0, **{\"x\": 1, \"y\": 2}, \"z\": 3, **{\"z\": 4, \"x\": 2}}\n",
    "d1"
   ]
  },
  {
   "cell_type": "code",
   "execution_count": null,
   "metadata": {},
   "outputs": [
    {
     "data": {
      "text/plain": [
       "{'a': 2, 'x': 2, 'y': 2, 'z': 4, 'b': 4, 'c': 6}"
      ]
     },
     "execution_count": 18,
     "metadata": {},
     "output_type": "execute_result"
    }
   ],
   "source": [
    "d2 = {'a':2, 'b':4, 'c': 6}\n",
    "d1 | d2"
   ]
  },
  {
   "cell_type": "code",
   "execution_count": null,
   "metadata": {},
   "outputs": [
    {
     "data": {
      "text/plain": [
       "{'a': 2, 'x': 2, 'y': 2, 'z': 4, 'b': 4, 'c': 6}"
      ]
     },
     "execution_count": 25,
     "metadata": {},
     "output_type": "execute_result"
    }
   ],
   "source": [
    "d1 |= d2\n",
    "d1"
   ]
  },
  {
   "cell_type": "code",
   "execution_count": null,
   "metadata": {},
   "outputs": [],
   "source": [
    "from collections import abc"
   ]
  },
  {
   "cell_type": "code",
   "execution_count": null,
   "metadata": {},
   "outputs": [
    {
     "data": {
      "text/plain": [
       "True"
      ]
     },
     "execution_count": 4,
     "metadata": {},
     "output_type": "execute_result"
    }
   ],
   "source": [
    "isinstance(dict(), abc.Mapping)"
   ]
  },
  {
   "cell_type": "code",
   "execution_count": null,
   "metadata": {},
   "outputs": [
    {
     "data": {
      "text/plain": [
       "True"
      ]
     },
     "execution_count": 5,
     "metadata": {},
     "output_type": "execute_result"
    }
   ],
   "source": [
    "isinstance(dict(), abc.MutableMapping)"
   ]
  },
  {
   "cell_type": "code",
   "execution_count": 11,
   "metadata": {},
   "outputs": [
    {
     "name": "stdout",
     "output_type": "stream",
     "text": [
      "False\n",
      "True\n",
      "False\n"
     ]
    }
   ],
   "source": [
    "from collections import UserDict\n",
    "# To implement a custom mapping, it's easier to extend collections.UserDict\n",
    "# ot to wrap a dict by composition instead of subclassing these\n",
    "# ABCs (ABstract Class).\n",
    "print(isinstance(dict(), UserDict))\n",
    "class MyDict(UserDict):\n",
    "    pass\n",
    "\n",
    "# Even if you implement your dict, the keys need to be hashable\n",
    "print(isinstance(MyDict(), UserDict))\n",
    "\n",
    "print(isinstance(MyDict(), dict))\n"
   ]
  },
  {
   "cell_type": "code",
   "execution_count": null,
   "metadata": {},
   "outputs": [
    {
     "name": "stdout",
     "output_type": "stream",
     "text": [
      "543870488427927284\n"
     ]
    },
    {
     "ename": "TypeError",
     "evalue": "unhashable type: 'list'",
     "output_type": "error",
     "traceback": [
      "\u001b[0;31m---------------------------------------------------------------------------\u001b[0m",
      "\u001b[0;31mTypeError\u001b[0m                                 Traceback (most recent call last)",
      "\u001b[1;32m/home/caio/FluentPython/part1-chapter-03.ipynb Cell 13\u001b[0m in \u001b[0;36m<cell line: 4>\u001b[0;34m()\u001b[0m\n\u001b[1;32m      <a href='vscode-notebook-cell://wsl%2Bubuntu/home/caio/FluentPython/part1-chapter-03.ipynb#X12sdnNjb2RlLXJlbW90ZQ%3D%3D?line=1'>2</a>\u001b[0m \u001b[39mprint\u001b[39m(\u001b[39mhash\u001b[39m((\u001b[39m1000000\u001b[39m,)))\n\u001b[1;32m      <a href='vscode-notebook-cell://wsl%2Bubuntu/home/caio/FluentPython/part1-chapter-03.ipynb#X12sdnNjb2RlLXJlbW90ZQ%3D%3D?line=2'>3</a>\u001b[0m \u001b[39m# List are unhashable\u001b[39;00m\n\u001b[0;32m----> <a href='vscode-notebook-cell://wsl%2Bubuntu/home/caio/FluentPython/part1-chapter-03.ipynb#X12sdnNjb2RlLXJlbW90ZQ%3D%3D?line=3'>4</a>\u001b[0m \u001b[39mhash\u001b[39;49m([\u001b[39m1000000\u001b[39;49m,])\n",
      "\u001b[0;31mTypeError\u001b[0m: unhashable type: 'list'"
     ]
    }
   ],
   "source": [
    "# Tupjes are hashable only if all its itens are hashable\n",
    "print(hash((1000000,)))\n",
    "# List are unhashable\n",
    "hash([1000000,])"
   ]
  },
  {
   "cell_type": "code",
   "execution_count": 12,
   "metadata": {},
   "outputs": [],
   "source": [
    "from collections import defaultdict, OrderedDict"
   ]
  },
  {
   "cell_type": "code",
   "execution_count": 19,
   "metadata": {},
   "outputs": [
    {
     "data": {
      "text/plain": [
       "defaultdict(list,\n",
       "            {'a': ['a'],\n",
       "             'b': ['b'],\n",
       "             'c': ['c'],\n",
       "             'd': ['d'],\n",
       "             'e': ['e'],\n",
       "             'k': []})"
      ]
     },
     "execution_count": 19,
     "metadata": {},
     "output_type": "execute_result"
    }
   ],
   "source": [
    "words = ['a', 'b', 'c', 'd', 'e']\n",
    "index = defaultdict(list)\n",
    "for w in words:\n",
    "    index[w].append(w)\n",
    "index['k'] # Gera uma lista vazia\n",
    "index"
   ]
  },
  {
   "cell_type": "code",
   "execution_count": null,
   "metadata": {},
   "outputs": [
    {
     "name": "stdout",
     "output_type": "stream",
     "text": [
      "a ['a']\n",
      "b ['b']\n",
      "c ['c']\n",
      "d ['d']\n",
      "e ['e']\n"
     ]
    }
   ],
   "source": [
    "for w in sorted(index, key=str.upper):\n",
    "    print(w, index[w])\n"
   ]
  },
  {
   "cell_type": "code",
   "execution_count": null,
   "metadata": {},
   "outputs": [
    {
     "name": "stdout",
     "output_type": "stream",
     "text": [
      "['g']\n",
      "[]\n"
     ]
    },
    {
     "data": {
      "text/plain": [
       "defaultdict(list,\n",
       "            {'a': ['a'],\n",
       "             'b': ['b'],\n",
       "             'c': ['c'],\n",
       "             'd': ['d'],\n",
       "             'e': ['e'],\n",
       "             'k': []})"
      ]
     },
     "execution_count": 38,
     "metadata": {},
     "output_type": "execute_result"
    }
   ],
   "source": [
    "print(index.default_factory('g')) # Não adiciona o item ao dicionário, mas \n",
    "print(index.__missing__('k'))\n",
    "index"
   ]
  },
  {
   "cell_type": "code",
   "execution_count": 30,
   "metadata": {},
   "outputs": [
    {
     "name": "stdout",
     "output_type": "stream",
     "text": [
      "defaultdict(<class 'list'>, {'k': [0, 1]})\n",
      "{'k': [0, 1]}\n"
     ]
    }
   ],
   "source": [
    "# default dict é equivalente\n",
    "index = defaultdict(list)\n",
    "index['k'].append(0)\n",
    "index['k'].append(1)\n",
    "print(index)\n",
    "\n",
    "# Equivalente\n",
    "index = dict()\n",
    "index['k'] = list()\n",
    "index['k'].append(0)\n",
    "index['k'].append(1)\n",
    "print(index)\n"
   ]
  },
  {
   "cell_type": "code",
   "execution_count": 31,
   "metadata": {},
   "outputs": [
    {
     "data": {
      "text/plain": [
       "1"
      ]
     },
     "execution_count": 31,
     "metadata": {},
     "output_type": "execute_result"
    }
   ],
   "source": [
    "class MyDict(UserDict):\n",
    "    def __missing__(self, key):\n",
    "        if isinstance(key, str):\n",
    "            raise KeyError(key)\n",
    "        return self[str(key)]\n",
    "    \n",
    "    def get(self, key, default=None):\n",
    "        try:\n",
    "            return self[key]\n",
    "        except KeyError:\n",
    "            return default\n",
    "\n",
    "    def __contains__(self, key):\n",
    "        return key in self.keys() or str(key) in self.keys()\n",
    "\n",
    "my_dict = MyDict()\n",
    "my_dict['1'] = 1\n",
    "my_dict[1]"
   ]
  },
  {
   "cell_type": "code",
   "execution_count": 37,
   "metadata": {},
   "outputs": [],
   "source": [
    "# Variations of dict\n",
    "from collections import OrderedDict, ChainMap, Counter\n",
    "from shelve import Shelf"
   ]
  },
  {
   "cell_type": "code",
   "execution_count": 35,
   "metadata": {},
   "outputs": [
    {
     "name": "stdout",
     "output_type": "stream",
     "text": [
      "OrderedDict([(68, 'D'), (69, 'E'), (65, 'A'), (66, 'B'), (67, 'C')])\n",
      "(68, 'D')\n",
      "(69, 'E')\n",
      "(65, 'A')\n",
      "(66, 'B')\n",
      "(67, 'C')\n"
     ]
    }
   ],
   "source": [
    "ordered_dict = OrderedDict({n:chr(n) for n in range(65,65+5)})\n",
    "ordered_dict.move_to_end(65)\n",
    "ordered_dict.move_to_end(66)\n",
    "ordered_dict.move_to_end(67)\n",
    "\n",
    "print(ordered_dict)\n",
    "for o in ordered_dict.items():\n",
    "    print(o)"
   ]
  },
  {
   "cell_type": "code",
   "execution_count": null,
   "metadata": {},
   "outputs": [
    {
     "name": "stdout",
     "output_type": "stream",
     "text": [
      "ChainMap({'a': 1, 'b': 2}, {'a': 'a', 'c': 'c'})\n"
     ]
    },
    {
     "data": {
      "text/plain": [
       "(1, 'c')"
      ]
     },
     "execution_count": 22,
     "metadata": {},
     "output_type": "execute_result"
    }
   ],
   "source": [
    "# ChainMap combine mappings and allow to seach them as one\n",
    "# The ChainMap holds references to them\n",
    "d1 = {'a':1, 'b':2}\n",
    "d2 = {'a':'a', 'c':'c'}\n",
    "chain = ChainMap(d1, d2)\n",
    "print(chain)\n",
    "\n",
    "chain['a'], chain['c']"
   ]
  },
  {
   "cell_type": "code",
   "execution_count": null,
   "metadata": {},
   "outputs": [
    {
     "data": {
      "text/plain": [
       "{'a': 2, 'b': 2}"
      ]
     },
     "execution_count": 23,
     "metadata": {},
     "output_type": "execute_result"
    }
   ],
   "source": [
    "chain['a'] = 2\n",
    "d1"
   ]
  },
  {
   "cell_type": "code",
   "execution_count": 38,
   "metadata": {},
   "outputs": [
    {
     "name": "stdout",
     "output_type": "stream",
     "text": [
      "Counter({'a': 5, 'b': 2, 'r': 2, 'k': 1, 'd': 1}) \n",
      " 5\n",
      "Counter({'a': 9, 'b': 2, 'r': 2, 'k': 2, 'd': 1, 'l': 1, 'z': 1, 'm': 1}) \n",
      " 1\n",
      "[('z', 10), ('a', 9), ('b', 2), ('r', 2)]\n"
     ]
    },
    {
     "data": {
      "text/plain": [
       "Counter({'a': 9, 'b': 2, 'r': 2, 'k': 2, 'd': 1, 'l': 1, 'z': 10, 'm': 1})"
      ]
     },
     "execution_count": 38,
     "metadata": {},
     "output_type": "execute_result"
    }
   ],
   "source": [
    "ct = Counter(\"abrakadabra\")\n",
    "print(ct, \"\\n\", ct[\"a\"])\n",
    "ct.update(\"alakazam\")\n",
    "print(ct, \"\\n\", ct[\"l\"])\n",
    "ct.update(\"zzzzzzzzz\")\n",
    "print(ct.most_common(4))\n",
    "ct"
   ]
  },
  {
   "cell_type": "code",
   "execution_count": null,
   "metadata": {},
   "outputs": [
    {
     "data": {
      "text/plain": [
       "(dict_values(['A', 'B', 'C', 'D', 'E']),\n",
       " dict_keys([65, 66, 67, 68, 69]),\n",
       " dict_items([(65, 'A'), (66, 'B'), (67, 'C'), (68, 'D'), (69, 'E')]))"
      ]
     },
     "execution_count": 47,
     "metadata": {},
     "output_type": "execute_result"
    }
   ],
   "source": [
    "d3 = {n:chr(n) for n in range(65,70)}\n",
    "# items is super util\n",
    "d3.values(), d3.keys(), d3.items()"
   ]
  },
  {
   "cell_type": "code",
   "execution_count": 39,
   "metadata": {},
   "outputs": [
    {
     "data": {
      "text/plain": [
       "(1, 2)"
      ]
     },
     "execution_count": 39,
     "metadata": {},
     "output_type": "execute_result"
    }
   ],
   "source": [
    "class StrKeyDict(UserDict):\n",
    "    def __missing__(self, key):\n",
    "        if isinstance(key, str):\n",
    "            raise KeyError(key)\n",
    "        return self[str(key)]\n",
    "    \n",
    "    def __contains__(self, key):\n",
    "        return str(key) in self.data\n",
    "    \n",
    "    def __setitem__(self, key, item):\n",
    "        self.data[str(key)] = item\n",
    "\n",
    "strkey = StrKeyDict()\n",
    "strkey[1] = 1\n",
    "strkey['2'] = 2\n",
    "strkey['1'], strkey[2]"
   ]
  },
  {
   "cell_type": "code",
   "execution_count": 61,
   "metadata": {},
   "outputs": [
    {
     "name": "stdout",
     "output_type": "stream",
     "text": [
      "'mappingproxy' object does not support item assignment\n"
     ]
    },
    {
     "data": {
      "text/plain": [
       "mappingproxy({1: 1, 2: 2, 3: []})"
      ]
     },
     "execution_count": 61,
     "metadata": {},
     "output_type": "execute_result"
    }
   ],
   "source": [
    "from types import MappingProxyType\n",
    "d = defaultdict(list)\n",
    "d[1] = 1\n",
    "d_proxy = MappingProxyType(d)\n",
    "d[2] = 2\n",
    "d_proxy[3]\n",
    "try:\n",
    "    d_proxy[4] = 2\n",
    "except Exception as e:\n",
    "    print(e)\n",
    "d_proxy"
   ]
  },
  {
   "cell_type": "code",
   "execution_count": 90,
   "metadata": {},
   "outputs": [
    {
     "name": "stdout",
     "output_type": "stream",
     "text": [
      "{'a', 'c', 'd', 'b'} frozenset({'e', 'c', 'f', 'd'})\n",
      "{'f', 'b', 'c', 'a', 'd', 'e'}\n",
      "{'c', 'd'}\n",
      "{'f', 'a', 'b', 'e'}\n",
      "{'a', 'b'}\n",
      "frozenset({'e', 'f'})\n"
     ]
    }
   ],
   "source": [
    "set_a = {'a','b','c','d'}\n",
    "set_b = frozenset(('c','d','e','f'))\n",
    "\n",
    "print(set_a, set_b)\n",
    "print(set_a|set_b)\n",
    "print(set_a&set_b)\n",
    "print(set_a^set_b)\n",
    "print(set_a-set_b)\n",
    "print(set_b-set_a)"
   ]
  },
  {
   "cell_type": "code",
   "execution_count": 98,
   "metadata": {},
   "outputs": [],
   "source": [
    "import numpy as np"
   ]
  },
  {
   "cell_type": "code",
   "execution_count": 344,
   "metadata": {},
   "outputs": [],
   "source": [
    "c = Counter()\n",
    "for k in range(10000000):\n",
    "    # Reinicia o set e a lista\n",
    "    S = set()\n",
    "    L = []\n",
    "    # Loop até o set ser reordenado internamente\n",
    "    for i in range(100000):\n",
    "        # Adicionar maior aleatoriedade nos hashs\n",
    "        I = i+np.random.normal(loc=1, scale=0.05)\n",
    "        if I not in S:\n",
    "            S.add(I)\n",
    "            L.append(I)\n",
    "            # O set foi reordenado\n",
    "            if L != list(S):\n",
    "                c.update([i])\n",
    "                break\n",
    "                "
   ]
  },
  {
   "cell_type": "code",
   "execution_count": 346,
   "metadata": {},
   "outputs": [
    {
     "data": {
      "text/plain": [
       "Counter({3: 1643172,\n",
       "         76: 1856500,\n",
       "         2: 2501271,\n",
       "         306: 3078566,\n",
       "         4: 588018,\n",
       "         1228: 332473})"
      ]
     },
     "execution_count": 346,
     "metadata": {},
     "output_type": "execute_result"
    }
   ],
   "source": [
    "c"
   ]
  },
  {
   "cell_type": "code",
   "execution_count": null,
   "metadata": {},
   "outputs": [],
   "source": []
  }
 ],
 "metadata": {
  "kernelspec": {
   "display_name": "Python 3.10.4 64-bit ('3.10.4')",
   "language": "python",
   "name": "python3"
  },
  "language_info": {
   "codemirror_mode": {
    "name": "ipython",
    "version": 3
   },
   "file_extension": ".py",
   "mimetype": "text/x-python",
   "name": "python",
   "nbconvert_exporter": "python",
   "pygments_lexer": "ipython3",
   "version": "3.10.4"
  },
  "orig_nbformat": 4,
  "vscode": {
   "interpreter": {
    "hash": "8ebb7c335093bb2a6e5a771fe2f24267b9482242c441074cc9d820c00b8871c6"
   }
  }
 },
 "nbformat": 4,
 "nbformat_minor": 2
}
